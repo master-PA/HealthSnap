{
  "nbformat": 4,
  "nbformat_minor": 0,
  "metadata": {
    "colab": {
      "provenance": [],
      "include_colab_link": true
    },
    "kernelspec": {
      "name": "python3",
      "display_name": "Python 3"
    },
    "language_info": {
      "name": "python"
    }
  },
  "cells": [
    {
      "cell_type": "markdown",
      "metadata": {
        "id": "view-in-github",
        "colab_type": "text"
      },
      "source": [
        "<a href=\"https://colab.research.google.com/github/master-PA/HealthSnap/blob/main/healthsnap.ipynb\" target=\"_parent\"><img src=\"https://colab.research.google.com/assets/colab-badge.svg\" alt=\"Open In Colab\"/></a>"
      ]
    },
    {
      "cell_type": "code",
      "source": [
        "import numpy as np\n",
        "import pandas as pd\n",
        "import random\n",
        "from scipy.stats import linregress"
      ],
      "metadata": {
        "id": "YEC3RKrnYz9z"
      },
      "execution_count": 1,
      "outputs": []
    },
    {
      "cell_type": "code",
      "source": [
        "num_users = 500\n",
        "num_days = 40"
      ],
      "metadata": {
        "id": "0eLKGM09ddg4"
      },
      "execution_count": null,
      "outputs": []
    },
    {
      "cell_type": "code",
      "source": [
        "symptoms = [\n",
        "    \"fever\", \"cough\", \"sore_throat\", \"runny_nose\", \"breath_shortness\", \"fatigue\",\n",
        "    \"headache\", \"body_pain\", \"appetite_loss\", \"nausea\", \"stomach_pain\",\n",
        "    \"sleep_quality\", \"mood_swings\", \"anxiety\", \"irritability\", \"concentration_loss\"\n",
        "]\n",
        "\n",
        "resp_cluster = [\"fever\", \"cough\", \"sore_throat\", \"runny_nose\", \"breath_shortness\"]\n",
        "digestive_cluster = [\"nausea\", \"stomach_pain\", \"appetite_loss\"]\n",
        "mental_cluster = [\"mood_swings\", \"anxiety\", \"irritability\", \"concentration_loss\", \"sleep_quality\"]\n",
        "body_cluster = [\"body_pain\", \"fatigue\", \"headache\"]\n",
        "\n",
        "clusters = [resp_cluster, digestive_cluster, mental_cluster, body_cluster]\n",
        "labels = [\"stable\", \"improving\", \"needs_attention\"]\n",
        "\n",
        "all_rows = []"
      ],
      "metadata": {
        "id": "0_1tVyI1di8R"
      },
      "execution_count": null,
      "outputs": []
    },
    {
      "cell_type": "code",
      "source": [
        "def generate_symptom_series(label):\n",
        "\n",
        "    base = np.random.uniform(0, 2, len(symptoms))\n",
        "    daily = np.zeros((num_days, len(symptoms)))\n",
        "\n",
        "\n",
        "    daily[0] = base\n",
        "    for i in range(1, num_days):\n",
        "        drift = np.random.normal(0, 0.2, len(symptoms))\n",
        "        daily[i] = np.clip(daily[i-1] + drift, 0, 10)\n",
        "\n",
        "\n",
        "    for _ in range(random.randint(0, 2)):\n",
        "        start = random.randint(5, num_days - 8)\n",
        "        dur = random.randint(3, 7)\n",
        "        cluster = random.choice(clusters)\n",
        "        indices = [symptoms.index(s) for s in cluster]\n",
        "        amp = np.random.uniform(2.0, 4.0)\n",
        "        for d in range(start, start + dur):\n",
        "            daily[d, indices] += amp\n",
        "            daily[d] = np.clip(daily[d], 0, 10)\n",
        "\n",
        "\n",
        "    trend = np.linspace(0, 0, num_days)\n",
        "    if label == \"improving\":\n",
        "        trend = np.linspace(1.5, -1.5, num_days)\n",
        "    elif label == \"needs_attention\":\n",
        "        trend = np.linspace(-1.5, 1.5, num_days)\n",
        "\n",
        "    daily += trend[:, None]\n",
        "    daily = np.clip(daily + np.random.normal(0, 0.3, daily.shape), 0, 10)\n",
        "    return daily"
      ],
      "metadata": {
        "id": "bjFuS2W_dmAG"
      },
      "execution_count": null,
      "outputs": []
    },
    {
      "cell_type": "code",
      "execution_count": null,
      "metadata": {
        "colab": {
          "base_uri": "https://localhost:8080/"
        },
        "id": "He1Qe7s7iRDK",
        "outputId": "6ed43543-d65b-46a0-8df9-1edbeb6e206d"
      },
      "outputs": [
        {
          "output_type": "stream",
          "name": "stdout",
          "text": [
            "✅ Dataset generated and saved as 'improved_symptom_pattern_dataset.csv'\n",
            "Label distribution:\n",
            " label\n",
            "improving          6440\n",
            "needs_attention    6440\n",
            "stable             6440\n",
            "Name: count, dtype: int64\n",
            "Shape: (19320, 22)\n"
          ]
        }
      ],
      "source": [
        "for user_id in range(1, num_users + 1):\n",
        "    label = random.choice(labels)  # balanced random label\n",
        "    daily_data = generate_symptom_series(label)\n",
        "\n",
        "    age = random.randint(18, 65)\n",
        "    gender = random.choice([\"male\", \"female\"])\n",
        "    lifestyle = random.choice([\"active\", \"moderate\", \"sedentary\"])\n",
        "\n",
        "    for day in range(num_days):\n",
        "        row = {\n",
        "            \"user_id\": user_id,\n",
        "            \"day\": day + 1,\n",
        "            \"age\": age,\n",
        "            \"gender\": gender,\n",
        "            \"lifestyle\": lifestyle,\n",
        "            \"label\": label\n",
        "        }\n",
        "        row.update({symptoms[i]: round(float(daily_data[day, i]), 2) for i in range(len(symptoms))})\n",
        "        all_rows.append(row)\n",
        "\n",
        "\n",
        "\n"
      ]
    },
    {
      "cell_type": "code",
      "source": [
        "\n",
        "df = pd.DataFrame(all_rows)\n",
        "\n",
        "# ensure balanced class distribution\n",
        "min_class_count = df[\"label\"].value_counts().min()\n",
        "balanced_df = pd.concat([\n",
        "    df[df[\"label\"] == lbl].sample(min_class_count, random_state=42)\n",
        "    for lbl in labels\n",
        "])\n",
        "\n",
        "balanced_df = balanced_df.sample(frac=1, random_state=42).reset_index(drop=True)\n",
        "\n"
      ],
      "metadata": {
        "id": "GXjv3lbDd1vK"
      },
      "execution_count": null,
      "outputs": []
    },
    {
      "cell_type": "code",
      "source": [
        "balanced_df.to_csv(\"improved_symptom_pattern_dataset.csv\", index=False)\n",
        "print(\"✅ Dataset generated and saved as 'improved_symptom_pattern_dataset.csv'\")\n",
        "print(\"Label distribution:\\n\", balanced_df[\"label\"].value_counts())\n",
        "print(\"Shape:\", balanced_df.shape)"
      ],
      "metadata": {
        "id": "V6fTbXOnd60o"
      },
      "execution_count": null,
      "outputs": []
    },
    {
      "cell_type": "code",
      "source": [
        "import pandas as pd\n",
        "import numpy as np\n",
        "from sklearn.preprocessing import StandardScaler, LabelEncoder\n",
        "from sklearn.model_selection import train_test_split\n",
        "from tensorflow.keras.models import Sequential\n",
        "from tensorflow.keras.layers import Conv1D, MaxPooling1D, LSTM, Dense, Dropout, Flatten\n",
        "from tensorflow.keras.utils import to_categorical\n",
        "from sklearn.metrics import classification_report, confusion_matrix\n",
        "import matplotlib.pyplot as plt"
      ],
      "metadata": {
        "id": "f9UZdvmpeAX6"
      },
      "execution_count": null,
      "outputs": []
    },
    {
      "cell_type": "code",
      "source": [
        "# ======================================\n",
        "# STEP 2: LOAD DATA\n",
        "# ======================================\n",
        "df = pd.read_csv(\"improved_symptom_pattern_dataset.csv\")\n",
        "\n",
        "print(\"✅ Data loaded:\", df.shape)\n",
        "print(df.head())"
      ],
      "metadata": {
        "id": "PNC0mT-FeEGo"
      },
      "execution_count": null,
      "outputs": []
    },
    {
      "cell_type": "code",
      "source": [
        "# ======================================\n",
        "# STEP 3: ENCODE LABELS\n",
        "# ======================================\n",
        "label_encoder = LabelEncoder()\n",
        "df[\"label_encoded\"] = label_encoder.fit_transform(df[\"label\"])\n",
        "\n",
        "print(\"\\nLabel mapping:\", dict(zip(label_encoder.classes_, label_encoder.transform(label_encoder.classes_))))"
      ],
      "metadata": {
        "id": "7rs3LHGUeIJv"
      },
      "execution_count": null,
      "outputs": []
    },
    {
      "cell_type": "code",
      "source": [
        "# ======================================\n",
        "# STEP 4: FEATURE SELECTION\n",
        "# ======================================\n",
        "symptom_cols = [col for col in df.columns if col not in [\"user_id\", \"day\", \"age\", \"gender\", \"lifestyle\", \"label\", \"label_encoded\"]]\n"
      ],
      "metadata": {
        "id": "qC47-jKqeI9Y"
      },
      "execution_count": null,
      "outputs": []
    },
    {
      "cell_type": "code",
      "source": [
        "# ======================================\n",
        "# STEP 5: SCALING NUMERIC FEATURES\n",
        "# ======================================\n",
        "scaler = StandardScaler()\n",
        "df[symptom_cols] = scaler.fit_transform(df[symptom_cols])"
      ],
      "metadata": {
        "id": "eOqLcRBreOGt"
      },
      "execution_count": null,
      "outputs": []
    },
    {
      "cell_type": "code",
      "source": [
        "# ======================================\n",
        "# STEP 6: CREATE SEQUENCES PER USER\n",
        "# ======================================\n",
        "X, y = [], []\n",
        "\n",
        "sequence_length = 10  # window size for time steps\n",
        "\n",
        "for user_id, group in df.groupby(\"user_id\"):\n",
        "    group = group.sort_values(\"day\")\n",
        "    features = group[symptom_cols].values\n",
        "    label = group[\"label_encoded\"].iloc[-1]  # final health state\n",
        "\n",
        "    if len(features) >= sequence_length:\n",
        "        for i in range(len(features) - sequence_length + 1):\n",
        "            X.append(features[i:i + sequence_length])\n",
        "            y.append(label)\n",
        "\n",
        "X = np.array(X)\n",
        "y = np.array(y)\n",
        "\n",
        "print(f\"\\n✅ Created sequences: {X.shape}, Labels: {y.shape}\")"
      ],
      "metadata": {
        "id": "-1eKTdpPeQb_"
      },
      "execution_count": null,
      "outputs": []
    },
    {
      "cell_type": "code",
      "source": [
        "# ======================================\n",
        "# STEP 7: TRAIN-TEST SPLIT\n",
        "# ======================================\n",
        "X_train, X_test, y_train, y_test = train_test_split(X, y, test_size=0.2, random_state=42, stratify=y)\n",
        "\n",
        "y_train_cat = to_categorical(y_train)\n",
        "y_test_cat = to_categorical(y_test)\n",
        "\n",
        "print(f\"Train: {X_train.shape}, Test: {X_test.shape}\")"
      ],
      "metadata": {
        "id": "IJ026kd7eTKK"
      },
      "execution_count": null,
      "outputs": []
    },
    {
      "cell_type": "code",
      "source": [
        "# ======================================\n",
        "# STEP 8: CNN + LSTM MODEL\n",
        "# ======================================\n",
        "model = Sequential([\n",
        "    Conv1D(filters=64, kernel_size=3, activation='relu', input_shape=(sequence_length, X.shape[2])),\n",
        "    MaxPooling1D(pool_size=2),\n",
        "    Dropout(0.3),\n",
        "\n",
        "    LSTM(64, return_sequences=False),\n",
        "    Dense(64, activation='relu'),\n",
        "    Dropout(0.3),\n",
        "    Dense(y_train_cat.shape[1], activation='softmax')\n",
        "])\n",
        "\n",
        "model.compile(optimizer='adam', loss='categorical_crossentropy', metrics=['accuracy'])\n",
        "model.summary()\n",
        "\n",
        "\n"
      ],
      "metadata": {
        "colab": {
          "base_uri": "https://localhost:8080/",
          "height": 1000
        },
        "id": "hnf6s7Y1Yy0F",
        "outputId": "8db5e3eb-69ab-45c3-b912-8f353c5abdcf"
      },
      "execution_count": null,
      "outputs": [
        {
          "output_type": "stream",
          "name": "stdout",
          "text": [
            "✅ Data loaded: (19320, 22)\n",
            "   user_id  day  age  gender  lifestyle            label  fever  cough  \\\n",
            "0      336   15   55  female  sedentary        improving   1.56   2.21   \n",
            "1      283   13   39    male     active  needs_attention   0.00   2.42   \n",
            "2       88   22   41  female     active  needs_attention   0.59   1.32   \n",
            "3      493   13   61  female     active  needs_attention   0.00   0.76   \n",
            "4      163   23   42  female   moderate  needs_attention   1.63   0.84   \n",
            "\n",
            "   sore_throat  runny_nose  ...  headache  body_pain  appetite_loss  nausea  \\\n",
            "0         1.43        3.63  ...      1.42       0.56           1.09    2.86   \n",
            "1         2.32        0.12  ...      0.00       2.67           0.03    0.85   \n",
            "2         0.87        0.93  ...      1.17       2.75           1.60    0.74   \n",
            "3         0.00        1.41  ...      2.55       4.21           2.59    0.69   \n",
            "4         0.40        2.81  ...      0.55       0.35           0.40    1.83   \n",
            "\n",
            "   stomach_pain  sleep_quality  mood_swings  anxiety  irritability  \\\n",
            "0          1.62           0.02         1.33     0.91          1.33   \n",
            "1          0.78           0.00         0.00     0.65          0.76   \n",
            "2          0.00           0.00         1.38     2.10          2.38   \n",
            "3          0.00           0.90         0.40     0.00          1.13   \n",
            "4          0.51           3.77         0.08     0.00          0.84   \n",
            "\n",
            "   concentration_loss  \n",
            "0                1.19  \n",
            "1                1.39  \n",
            "2                0.00  \n",
            "3                0.36  \n",
            "4                1.73  \n",
            "\n",
            "[5 rows x 22 columns]\n",
            "\n",
            "Label mapping: {'improving': np.int64(0), 'needs_attention': np.int64(1), 'stable': np.int64(2)}\n",
            "\n",
            "✅ Created sequences: (14820, 10, 16), Labels: (14820,)\n",
            "Train: (11856, 10, 16), Test: (2964, 10, 16)\n"
          ]
        },
        {
          "output_type": "stream",
          "name": "stderr",
          "text": [
            "/usr/local/lib/python3.12/dist-packages/keras/src/layers/convolutional/base_conv.py:113: UserWarning: Do not pass an `input_shape`/`input_dim` argument to a layer. When using Sequential models, prefer using an `Input(shape)` object as the first layer in the model instead.\n",
            "  super().__init__(activity_regularizer=activity_regularizer, **kwargs)\n"
          ]
        },
        {
          "output_type": "display_data",
          "data": {
            "text/plain": [
              "\u001b[1mModel: \"sequential_1\"\u001b[0m\n"
            ],
            "text/html": [
              "<pre style=\"white-space:pre;overflow-x:auto;line-height:normal;font-family:Menlo,'DejaVu Sans Mono',consolas,'Courier New',monospace\"><span style=\"font-weight: bold\">Model: \"sequential_1\"</span>\n",
              "</pre>\n"
            ]
          },
          "metadata": {}
        },
        {
          "output_type": "display_data",
          "data": {
            "text/plain": [
              "┏━━━━━━━━━━━━━━━━━━━━━━━━━━━━━━━━━┳━━━━━━━━━━━━━━━━━━━━━━━━┳━━━━━━━━━━━━━━━┓\n",
              "┃\u001b[1m \u001b[0m\u001b[1mLayer (type)                   \u001b[0m\u001b[1m \u001b[0m┃\u001b[1m \u001b[0m\u001b[1mOutput Shape          \u001b[0m\u001b[1m \u001b[0m┃\u001b[1m \u001b[0m\u001b[1m      Param #\u001b[0m\u001b[1m \u001b[0m┃\n",
              "┡━━━━━━━━━━━━━━━━━━━━━━━━━━━━━━━━━╇━━━━━━━━━━━━━━━━━━━━━━━━╇━━━━━━━━━━━━━━━┩\n",
              "│ conv1d_1 (\u001b[38;5;33mConv1D\u001b[0m)               │ (\u001b[38;5;45mNone\u001b[0m, \u001b[38;5;34m8\u001b[0m, \u001b[38;5;34m64\u001b[0m)          │         \u001b[38;5;34m3,136\u001b[0m │\n",
              "├─────────────────────────────────┼────────────────────────┼───────────────┤\n",
              "│ max_pooling1d_1 (\u001b[38;5;33mMaxPooling1D\u001b[0m)  │ (\u001b[38;5;45mNone\u001b[0m, \u001b[38;5;34m4\u001b[0m, \u001b[38;5;34m64\u001b[0m)          │             \u001b[38;5;34m0\u001b[0m │\n",
              "├─────────────────────────────────┼────────────────────────┼───────────────┤\n",
              "│ dropout_2 (\u001b[38;5;33mDropout\u001b[0m)             │ (\u001b[38;5;45mNone\u001b[0m, \u001b[38;5;34m4\u001b[0m, \u001b[38;5;34m64\u001b[0m)          │             \u001b[38;5;34m0\u001b[0m │\n",
              "├─────────────────────────────────┼────────────────────────┼───────────────┤\n",
              "│ lstm_1 (\u001b[38;5;33mLSTM\u001b[0m)                   │ (\u001b[38;5;45mNone\u001b[0m, \u001b[38;5;34m64\u001b[0m)             │        \u001b[38;5;34m33,024\u001b[0m │\n",
              "├─────────────────────────────────┼────────────────────────┼───────────────┤\n",
              "│ dense_2 (\u001b[38;5;33mDense\u001b[0m)                 │ (\u001b[38;5;45mNone\u001b[0m, \u001b[38;5;34m64\u001b[0m)             │         \u001b[38;5;34m4,160\u001b[0m │\n",
              "├─────────────────────────────────┼────────────────────────┼───────────────┤\n",
              "│ dropout_3 (\u001b[38;5;33mDropout\u001b[0m)             │ (\u001b[38;5;45mNone\u001b[0m, \u001b[38;5;34m64\u001b[0m)             │             \u001b[38;5;34m0\u001b[0m │\n",
              "├─────────────────────────────────┼────────────────────────┼───────────────┤\n",
              "│ dense_3 (\u001b[38;5;33mDense\u001b[0m)                 │ (\u001b[38;5;45mNone\u001b[0m, \u001b[38;5;34m3\u001b[0m)              │           \u001b[38;5;34m195\u001b[0m │\n",
              "└─────────────────────────────────┴────────────────────────┴───────────────┘\n"
            ],
            "text/html": [
              "<pre style=\"white-space:pre;overflow-x:auto;line-height:normal;font-family:Menlo,'DejaVu Sans Mono',consolas,'Courier New',monospace\">┏━━━━━━━━━━━━━━━━━━━━━━━━━━━━━━━━━┳━━━━━━━━━━━━━━━━━━━━━━━━┳━━━━━━━━━━━━━━━┓\n",
              "┃<span style=\"font-weight: bold\"> Layer (type)                    </span>┃<span style=\"font-weight: bold\"> Output Shape           </span>┃<span style=\"font-weight: bold\">       Param # </span>┃\n",
              "┡━━━━━━━━━━━━━━━━━━━━━━━━━━━━━━━━━╇━━━━━━━━━━━━━━━━━━━━━━━━╇━━━━━━━━━━━━━━━┩\n",
              "│ conv1d_1 (<span style=\"color: #0087ff; text-decoration-color: #0087ff\">Conv1D</span>)               │ (<span style=\"color: #00d7ff; text-decoration-color: #00d7ff\">None</span>, <span style=\"color: #00af00; text-decoration-color: #00af00\">8</span>, <span style=\"color: #00af00; text-decoration-color: #00af00\">64</span>)          │         <span style=\"color: #00af00; text-decoration-color: #00af00\">3,136</span> │\n",
              "├─────────────────────────────────┼────────────────────────┼───────────────┤\n",
              "│ max_pooling1d_1 (<span style=\"color: #0087ff; text-decoration-color: #0087ff\">MaxPooling1D</span>)  │ (<span style=\"color: #00d7ff; text-decoration-color: #00d7ff\">None</span>, <span style=\"color: #00af00; text-decoration-color: #00af00\">4</span>, <span style=\"color: #00af00; text-decoration-color: #00af00\">64</span>)          │             <span style=\"color: #00af00; text-decoration-color: #00af00\">0</span> │\n",
              "├─────────────────────────────────┼────────────────────────┼───────────────┤\n",
              "│ dropout_2 (<span style=\"color: #0087ff; text-decoration-color: #0087ff\">Dropout</span>)             │ (<span style=\"color: #00d7ff; text-decoration-color: #00d7ff\">None</span>, <span style=\"color: #00af00; text-decoration-color: #00af00\">4</span>, <span style=\"color: #00af00; text-decoration-color: #00af00\">64</span>)          │             <span style=\"color: #00af00; text-decoration-color: #00af00\">0</span> │\n",
              "├─────────────────────────────────┼────────────────────────┼───────────────┤\n",
              "│ lstm_1 (<span style=\"color: #0087ff; text-decoration-color: #0087ff\">LSTM</span>)                   │ (<span style=\"color: #00d7ff; text-decoration-color: #00d7ff\">None</span>, <span style=\"color: #00af00; text-decoration-color: #00af00\">64</span>)             │        <span style=\"color: #00af00; text-decoration-color: #00af00\">33,024</span> │\n",
              "├─────────────────────────────────┼────────────────────────┼───────────────┤\n",
              "│ dense_2 (<span style=\"color: #0087ff; text-decoration-color: #0087ff\">Dense</span>)                 │ (<span style=\"color: #00d7ff; text-decoration-color: #00d7ff\">None</span>, <span style=\"color: #00af00; text-decoration-color: #00af00\">64</span>)             │         <span style=\"color: #00af00; text-decoration-color: #00af00\">4,160</span> │\n",
              "├─────────────────────────────────┼────────────────────────┼───────────────┤\n",
              "│ dropout_3 (<span style=\"color: #0087ff; text-decoration-color: #0087ff\">Dropout</span>)             │ (<span style=\"color: #00d7ff; text-decoration-color: #00d7ff\">None</span>, <span style=\"color: #00af00; text-decoration-color: #00af00\">64</span>)             │             <span style=\"color: #00af00; text-decoration-color: #00af00\">0</span> │\n",
              "├─────────────────────────────────┼────────────────────────┼───────────────┤\n",
              "│ dense_3 (<span style=\"color: #0087ff; text-decoration-color: #0087ff\">Dense</span>)                 │ (<span style=\"color: #00d7ff; text-decoration-color: #00d7ff\">None</span>, <span style=\"color: #00af00; text-decoration-color: #00af00\">3</span>)              │           <span style=\"color: #00af00; text-decoration-color: #00af00\">195</span> │\n",
              "└─────────────────────────────────┴────────────────────────┴───────────────┘\n",
              "</pre>\n"
            ]
          },
          "metadata": {}
        },
        {
          "output_type": "display_data",
          "data": {
            "text/plain": [
              "\u001b[1m Total params: \u001b[0m\u001b[38;5;34m40,515\u001b[0m (158.26 KB)\n"
            ],
            "text/html": [
              "<pre style=\"white-space:pre;overflow-x:auto;line-height:normal;font-family:Menlo,'DejaVu Sans Mono',consolas,'Courier New',monospace\"><span style=\"font-weight: bold\"> Total params: </span><span style=\"color: #00af00; text-decoration-color: #00af00\">40,515</span> (158.26 KB)\n",
              "</pre>\n"
            ]
          },
          "metadata": {}
        },
        {
          "output_type": "display_data",
          "data": {
            "text/plain": [
              "\u001b[1m Trainable params: \u001b[0m\u001b[38;5;34m40,515\u001b[0m (158.26 KB)\n"
            ],
            "text/html": [
              "<pre style=\"white-space:pre;overflow-x:auto;line-height:normal;font-family:Menlo,'DejaVu Sans Mono',consolas,'Courier New',monospace\"><span style=\"font-weight: bold\"> Trainable params: </span><span style=\"color: #00af00; text-decoration-color: #00af00\">40,515</span> (158.26 KB)\n",
              "</pre>\n"
            ]
          },
          "metadata": {}
        },
        {
          "output_type": "display_data",
          "data": {
            "text/plain": [
              "\u001b[1m Non-trainable params: \u001b[0m\u001b[38;5;34m0\u001b[0m (0.00 B)\n"
            ],
            "text/html": [
              "<pre style=\"white-space:pre;overflow-x:auto;line-height:normal;font-family:Menlo,'DejaVu Sans Mono',consolas,'Courier New',monospace\"><span style=\"font-weight: bold\"> Non-trainable params: </span><span style=\"color: #00af00; text-decoration-color: #00af00\">0</span> (0.00 B)\n",
              "</pre>\n"
            ]
          },
          "metadata": {}
        }
      ]
    },
    {
      "cell_type": "code",
      "source": [
        "history = model.fit(\n",
        "    X_train, y_train_cat,\n",
        "    epochs=25,\n",
        "    batch_size=32,\n",
        "    validation_split=0.2,\n",
        "    verbose=1\n",
        ")\n",
        "\n"
      ],
      "metadata": {
        "colab": {
          "base_uri": "https://localhost:8080/"
        },
        "id": "IXIhrgAeamrH",
        "outputId": "5d9796ca-6f58-4914-a903-aa8113b2942d"
      },
      "execution_count": null,
      "outputs": [
        {
          "output_type": "stream",
          "name": "stdout",
          "text": [
            "Epoch 1/25\n",
            "\u001b[1m297/297\u001b[0m \u001b[32m━━━━━━━━━━━━━━━━━━━━\u001b[0m\u001b[37m\u001b[0m \u001b[1m6s\u001b[0m 8ms/step - accuracy: 0.5580 - loss: 0.9053 - val_accuracy: 0.8524 - val_loss: 0.4115\n",
            "Epoch 2/25\n",
            "\u001b[1m297/297\u001b[0m \u001b[32m━━━━━━━━━━━━━━━━━━━━\u001b[0m\u001b[37m\u001b[0m \u001b[1m2s\u001b[0m 7ms/step - accuracy: 0.8401 - loss: 0.4195 - val_accuracy: 0.9148 - val_loss: 0.2489\n",
            "Epoch 3/25\n",
            "\u001b[1m297/297\u001b[0m \u001b[32m━━━━━━━━━━━━━━━━━━━━\u001b[0m\u001b[37m\u001b[0m \u001b[1m2s\u001b[0m 7ms/step - accuracy: 0.8762 - loss: 0.3165 - val_accuracy: 0.9372 - val_loss: 0.1638\n",
            "Epoch 4/25\n",
            "\u001b[1m297/297\u001b[0m \u001b[32m━━━━━━━━━━━━━━━━━━━━\u001b[0m\u001b[37m\u001b[0m \u001b[1m2s\u001b[0m 6ms/step - accuracy: 0.9082 - loss: 0.2384 - val_accuracy: 0.9481 - val_loss: 0.1483\n",
            "Epoch 5/25\n",
            "\u001b[1m297/297\u001b[0m \u001b[32m━━━━━━━━━━━━━━━━━━━━\u001b[0m\u001b[37m\u001b[0m \u001b[1m4s\u001b[0m 10ms/step - accuracy: 0.9216 - loss: 0.2025 - val_accuracy: 0.9511 - val_loss: 0.1341\n",
            "Epoch 6/25\n",
            "\u001b[1m297/297\u001b[0m \u001b[32m━━━━━━━━━━━━━━━━━━━━\u001b[0m\u001b[37m\u001b[0m \u001b[1m2s\u001b[0m 7ms/step - accuracy: 0.9331 - loss: 0.1701 - val_accuracy: 0.9532 - val_loss: 0.1211\n",
            "Epoch 7/25\n",
            "\u001b[1m297/297\u001b[0m \u001b[32m━━━━━━━━━━━━━━━━━━━━\u001b[0m\u001b[37m\u001b[0m \u001b[1m3s\u001b[0m 7ms/step - accuracy: 0.9442 - loss: 0.1420 - val_accuracy: 0.9528 - val_loss: 0.1203\n",
            "Epoch 8/25\n",
            "\u001b[1m297/297\u001b[0m \u001b[32m━━━━━━━━━━━━━━━━━━━━\u001b[0m\u001b[37m\u001b[0m \u001b[1m3s\u001b[0m 7ms/step - accuracy: 0.9483 - loss: 0.1340 - val_accuracy: 0.9684 - val_loss: 0.0789\n",
            "Epoch 9/25\n",
            "\u001b[1m297/297\u001b[0m \u001b[32m━━━━━━━━━━━━━━━━━━━━\u001b[0m\u001b[37m\u001b[0m \u001b[1m2s\u001b[0m 7ms/step - accuracy: 0.9542 - loss: 0.1263 - val_accuracy: 0.9654 - val_loss: 0.0811\n",
            "Epoch 10/25\n",
            "\u001b[1m297/297\u001b[0m \u001b[32m━━━━━━━━━━━━━━━━━━━━\u001b[0m\u001b[37m\u001b[0m \u001b[1m3s\u001b[0m 11ms/step - accuracy: 0.9567 - loss: 0.1164 - val_accuracy: 0.9772 - val_loss: 0.0570\n",
            "Epoch 11/25\n",
            "\u001b[1m297/297\u001b[0m \u001b[32m━━━━━━━━━━━━━━━━━━━━\u001b[0m\u001b[37m\u001b[0m \u001b[1m2s\u001b[0m 7ms/step - accuracy: 0.9670 - loss: 0.0886 - val_accuracy: 0.9789 - val_loss: 0.0593\n",
            "Epoch 12/25\n",
            "\u001b[1m297/297\u001b[0m \u001b[32m━━━━━━━━━━━━━━━━━━━━\u001b[0m\u001b[37m\u001b[0m \u001b[1m2s\u001b[0m 7ms/step - accuracy: 0.9667 - loss: 0.0929 - val_accuracy: 0.9751 - val_loss: 0.0634\n",
            "Epoch 13/25\n",
            "\u001b[1m297/297\u001b[0m \u001b[32m━━━━━━━━━━━━━━━━━━━━\u001b[0m\u001b[37m\u001b[0m \u001b[1m2s\u001b[0m 7ms/step - accuracy: 0.9691 - loss: 0.0906 - val_accuracy: 0.9789 - val_loss: 0.0483\n",
            "Epoch 14/25\n",
            "\u001b[1m297/297\u001b[0m \u001b[32m━━━━━━━━━━━━━━━━━━━━\u001b[0m\u001b[37m\u001b[0m \u001b[1m2s\u001b[0m 7ms/step - accuracy: 0.9702 - loss: 0.0791 - val_accuracy: 0.9815 - val_loss: 0.0487\n",
            "Epoch 15/25\n",
            "\u001b[1m297/297\u001b[0m \u001b[32m━━━━━━━━━━━━━━━━━━━━\u001b[0m\u001b[37m\u001b[0m \u001b[1m2s\u001b[0m 7ms/step - accuracy: 0.9752 - loss: 0.0737 - val_accuracy: 0.9852 - val_loss: 0.0415\n",
            "Epoch 16/25\n",
            "\u001b[1m297/297\u001b[0m \u001b[32m━━━━━━━━━━━━━━━━━━━━\u001b[0m\u001b[37m\u001b[0m \u001b[1m3s\u001b[0m 10ms/step - accuracy: 0.9753 - loss: 0.0606 - val_accuracy: 0.9874 - val_loss: 0.0383\n",
            "Epoch 17/25\n",
            "\u001b[1m297/297\u001b[0m \u001b[32m━━━━━━━━━━━━━━━━━━━━\u001b[0m\u001b[37m\u001b[0m \u001b[1m4s\u001b[0m 7ms/step - accuracy: 0.9745 - loss: 0.0718 - val_accuracy: 0.9895 - val_loss: 0.0337\n",
            "Epoch 18/25\n",
            "\u001b[1m297/297\u001b[0m \u001b[32m━━━━━━━━━━━━━━━━━━━━\u001b[0m\u001b[37m\u001b[0m \u001b[1m2s\u001b[0m 7ms/step - accuracy: 0.9780 - loss: 0.0620 - val_accuracy: 0.9827 - val_loss: 0.0458\n",
            "Epoch 19/25\n",
            "\u001b[1m297/297\u001b[0m \u001b[32m━━━━━━━━━━━━━━━━━━━━\u001b[0m\u001b[37m\u001b[0m \u001b[1m3s\u001b[0m 7ms/step - accuracy: 0.9811 - loss: 0.0534 - val_accuracy: 0.9878 - val_loss: 0.0332\n",
            "Epoch 20/25\n",
            "\u001b[1m297/297\u001b[0m \u001b[32m━━━━━━━━━━━━━━━━━━━━\u001b[0m\u001b[37m\u001b[0m \u001b[1m3s\u001b[0m 10ms/step - accuracy: 0.9802 - loss: 0.0568 - val_accuracy: 0.9819 - val_loss: 0.0498\n",
            "Epoch 21/25\n",
            "\u001b[1m297/297\u001b[0m \u001b[32m━━━━━━━━━━━━━━━━━━━━\u001b[0m\u001b[37m\u001b[0m \u001b[1m2s\u001b[0m 7ms/step - accuracy: 0.9754 - loss: 0.0635 - val_accuracy: 0.9924 - val_loss: 0.0272\n",
            "Epoch 22/25\n",
            "\u001b[1m297/297\u001b[0m \u001b[32m━━━━━━━━━━━━━━━━━━━━\u001b[0m\u001b[37m\u001b[0m \u001b[1m2s\u001b[0m 7ms/step - accuracy: 0.9840 - loss: 0.0447 - val_accuracy: 0.9903 - val_loss: 0.0284\n",
            "Epoch 23/25\n",
            "\u001b[1m297/297\u001b[0m \u001b[32m━━━━━━━━━━━━━━━━━━━━\u001b[0m\u001b[37m\u001b[0m \u001b[1m2s\u001b[0m 6ms/step - accuracy: 0.9830 - loss: 0.0526 - val_accuracy: 0.9916 - val_loss: 0.0237\n",
            "Epoch 24/25\n",
            "\u001b[1m297/297\u001b[0m \u001b[32m━━━━━━━━━━━━━━━━━━━━\u001b[0m\u001b[37m\u001b[0m \u001b[1m2s\u001b[0m 7ms/step - accuracy: 0.9842 - loss: 0.0453 - val_accuracy: 0.9928 - val_loss: 0.0238\n",
            "Epoch 25/25\n",
            "\u001b[1m297/297\u001b[0m \u001b[32m━━━━━━━━━━━━━━━━━━━━\u001b[0m\u001b[37m\u001b[0m \u001b[1m2s\u001b[0m 8ms/step - accuracy: 0.9826 - loss: 0.0478 - val_accuracy: 0.9928 - val_loss: 0.0226\n"
          ]
        }
      ]
    },
    {
      "cell_type": "code",
      "source": [
        "# ======================================\n",
        "# STEP 10: EVALUATION\n",
        "# ======================================\n",
        "loss, acc = model.evaluate(X_test, y_test_cat)\n",
        "print(f\"\\n✅ Test Accuracy: {acc*100:.2f}%\")\n",
        "\n",
        "# Confusion matrix\n",
        "y_pred = np.argmax(model.predict(X_test), axis=1)\n",
        "print(\"\\nClassification Report:\")\n",
        "print(classification_report(y_test, y_pred, target_names=label_encoder.classes_))\n",
        "\n",
        "cm = confusion_matrix(y_test, y_pred)\n",
        "plt.imshow(cm, cmap=\"Blues\")\n",
        "plt.title(\"Confusion Matrix\")\n",
        "plt.colorbar()\n",
        "plt.show()"
      ],
      "metadata": {
        "id": "Il4oQFVpee70"
      },
      "execution_count": null,
      "outputs": []
    },
    {
      "cell_type": "code",
      "source": [
        "\n",
        "\n",
        "# ======================================\n",
        "# STEP 11: SAVE MODEL + SCALER\n",
        "# ======================================\n",
        "model.save(\"symptom_cnn_lstm_model.keras\")\n",
        "print(\"\\n✅ Model saved as 'symptom_cnn_lstm_model.keras'\")"
      ],
      "metadata": {
        "colab": {
          "base_uri": "https://localhost:8080/",
          "height": 764
        },
        "id": "9zNDwssKap3k",
        "outputId": "5da085bc-4321-449a-d06a-4288522afb29"
      },
      "execution_count": null,
      "outputs": [
        {
          "output_type": "stream",
          "name": "stdout",
          "text": [
            "\u001b[1m93/93\u001b[0m \u001b[32m━━━━━━━━━━━━━━━━━━━━\u001b[0m\u001b[37m\u001b[0m \u001b[1m0s\u001b[0m 3ms/step - accuracy: 0.9888 - loss: 0.0304\n",
            "\n",
            "✅ Test Accuracy: 99.09%\n",
            "\u001b[1m93/93\u001b[0m \u001b[32m━━━━━━━━━━━━━━━━━━━━\u001b[0m\u001b[37m\u001b[0m \u001b[1m0s\u001b[0m 3ms/step\n",
            "\n",
            "Classification Report:\n",
            "                 precision    recall  f1-score   support\n",
            "\n",
            "      improving       0.99      0.99      0.99       971\n",
            "needs_attention       0.99      0.99      0.99       995\n",
            "         stable       0.99      0.98      0.99       998\n",
            "\n",
            "       accuracy                           0.99      2964\n",
            "      macro avg       0.99      0.99      0.99      2964\n",
            "   weighted avg       0.99      0.99      0.99      2964\n",
            "\n"
          ]
        },
        {
          "output_type": "display_data",
          "data": {
            "text/plain": [
              "<Figure size 640x480 with 2 Axes>"
            ],
            "image/png": "[encoded data removed]"
          },
          "metadata": {}
        },
        {
          "output_type": "stream",
          "name": "stdout",
          "text": [
            "\n",
            "✅ Model saved as 'symptom_cnn_lstm_model.keras'\n"
          ]
        }
      ]
    },
    {
      "cell_type": "code",
      "source": [
        "import joblib\n",
        "\n",
        "# Save after training\n",
        "joblib.dump(scaler, \"scaler.pkl\")\n",
        "joblib.dump(label_encoder, \"label_encoder.pkl\")"
      ],
      "metadata": {
        "id": "Be-1vAulb5ya",
        "outputId": "fc2a1e3c-b4f3-4851-e6ba-2958e30420eb",
        "colab": {
          "base_uri": "https://localhost:8080/"
        }
      },
      "execution_count": null,
      "outputs": [
        {
          "output_type": "execute_result",
          "data": {
            "text/plain": [
              "['label_encoder.pkl']"
            ]
          },
          "metadata": {},
          "execution_count": 16
        }
      ]
    }
  ]
}